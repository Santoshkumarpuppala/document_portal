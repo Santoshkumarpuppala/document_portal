{
 "cells": [
  {
   "cell_type": "code",
   "execution_count": 1,
   "id": "8b329481",
   "metadata": {},
   "outputs": [
    {
     "name": "stdout",
     "output_type": "stream",
     "text": [
      "all ok\n"
     ]
    }
   ],
   "source": [
    "print(\"all ok\")"
   ]
  },
  {
   "cell_type": "code",
   "execution_count": 11,
   "id": "6596b2f8",
   "metadata": {},
   "outputs": [],
   "source": [
    "from logger.custom_logger import CustomLogger"
   ]
  },
  {
   "cell_type": "code",
   "execution_count": 12,
   "id": "5dd95fa8",
   "metadata": {},
   "outputs": [
    {
     "name": "stdout",
     "output_type": "stream",
     "text": [
      "Logging to: /Users/santoshkumarpuppala/Documents/Learnings/Agentic AI and Gen AI/LLMOPS/Projects/Project 1 Document Portal/notebook/logs/08_21_2025_07_37_01.log\n"
     ]
    }
   ],
   "source": [
    "logger=CustomLogger().get_logger(\"Exception_experiment\")"
   ]
  },
  {
   "cell_type": "code",
   "execution_count": 2,
   "id": "bfb615e2",
   "metadata": {},
   "outputs": [],
   "source": [
    "import sys\n",
    "import traceback"
   ]
  },
  {
   "cell_type": "code",
   "execution_count": 13,
   "id": "6e272bb2",
   "metadata": {},
   "outputs": [
    {
     "ename": "DocumentPortalException",
     "evalue": "\n        Error in [/var/folders/l3/k1h9xy7x20q9m_00zlrlh1qr0000gn/T/ipykernel_64607/86738159.py] at line [19]\n        Message: division by zero\n        Traceback:\n        Traceback (most recent call last):\n  File \"/var/folders/l3/k1h9xy7x20q9m_00zlrlh1qr0000gn/T/ipykernel_64607/86738159.py\", line 19, in <module>\n    a = 1 / 0\nZeroDivisionError: division by zero\n\n        ",
     "output_type": "error",
     "traceback": [
      "\u001b[0;31m---------------------------------------------------------------------------\u001b[0m",
      "\u001b[0;31mZeroDivisionError\u001b[0m                         Traceback (most recent call last)",
      "Cell \u001b[0;32mIn[13], line 19\u001b[0m\n\u001b[1;32m     17\u001b[0m \u001b[38;5;28;01mtry\u001b[39;00m:\n\u001b[1;32m     18\u001b[0m \u001b[38;5;66;03m# Simulate an error\u001b[39;00m\n\u001b[0;32m---> 19\u001b[0m     a \u001b[38;5;241m=\u001b[39m \u001b[38;5;241;43m1\u001b[39;49m\u001b[43m \u001b[49m\u001b[38;5;241;43m/\u001b[39;49m\u001b[43m \u001b[49m\u001b[38;5;241;43m0\u001b[39;49m\n\u001b[1;32m     20\u001b[0m     \u001b[38;5;28mprint\u001b[39m(a)\n",
      "\u001b[0;31mZeroDivisionError\u001b[0m: division by zero",
      "\nDuring handling of the above exception, another exception occurred:\n",
      "\u001b[0;31mDocumentPortalException\u001b[0m                   Traceback (most recent call last)",
      "Cell \u001b[0;32mIn[13], line 25\u001b[0m\n\u001b[1;32m     22\u001b[0m app_exc \u001b[38;5;241m=\u001b[39m DocumentPortalException(e, sys)\n\u001b[1;32m     23\u001b[0m logger\u001b[38;5;241m.\u001b[39merror(app_exc)\n\u001b[0;32m---> 25\u001b[0m \u001b[38;5;28;01mraise\u001b[39;00m app_exc\n",
      "\u001b[0;31mDocumentPortalException\u001b[0m: \n        Error in [/var/folders/l3/k1h9xy7x20q9m_00zlrlh1qr0000gn/T/ipykernel_64607/86738159.py] at line [19]\n        Message: division by zero\n        Traceback:\n        Traceback (most recent call last):\n  File \"/var/folders/l3/k1h9xy7x20q9m_00zlrlh1qr0000gn/T/ipykernel_64607/86738159.py\", line 19, in <module>\n    a = 1 / 0\nZeroDivisionError: division by zero\n\n        "
     ]
    }
   ],
   "source": [
    "class DocumentPortalException(Exception):\n",
    "    \"\"\"Custom exception for Document portal\"\"\"\n",
    "    def __init__(self, error_message:str, error_details:sys):\n",
    "        _,_,exc_tb=error_details.exc_info()\n",
    "        self.file_name=exc_tb.tb_frame.f_code.co_filename\n",
    "        self.lineno=exc_tb.tb_lineno\n",
    "        self.error_message=str(error_message)\n",
    "        self.traceback_str= ''.join(traceback.format_exception(*error_details.exc_info()))\n",
    "    def __str__(self):\n",
    "        return f\"\"\"\n",
    "        Error in [{self.file_name}] at line [{self.lineno}]\n",
    "        Message: {self.error_message}\n",
    "        Traceback:\n",
    "        {self.traceback_str}\n",
    "        \"\"\"\n",
    "if __name__ == \"__main__\":\n",
    "    try:\n",
    "    # Simulate an error\n",
    "        a = 1 / 0\n",
    "        print(a)\n",
    "    except Exception as e:\n",
    "        app_exc = DocumentPortalException(e, sys)\n",
    "        logger.error(app_exc)\n",
    "\n",
    "        raise app_exc\n"
   ]
  },
  {
   "cell_type": "markdown",
   "id": "353d9abe",
   "metadata": {},
   "source": [
    "1. If we log error it will keep the record"
   ]
  }
 ],
 "metadata": {
  "kernelspec": {
   "display_name": "documentPortal",
   "language": "python",
   "name": "python3"
  },
  "language_info": {
   "codemirror_mode": {
    "name": "ipython",
    "version": 3
   },
   "file_extension": ".py",
   "mimetype": "text/x-python",
   "name": "python",
   "nbconvert_exporter": "python",
   "pygments_lexer": "ipython3",
   "version": "3.10.18"
  }
 },
 "nbformat": 4,
 "nbformat_minor": 5
}
